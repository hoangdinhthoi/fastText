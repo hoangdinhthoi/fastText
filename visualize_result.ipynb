{
 "cells": [
  {
   "cell_type": "code",
   "execution_count": null,
   "metadata": {},
   "outputs": [],
   "source": [
    "import pandas as pd\n",
    "import numpy as np\n",
    "import matplotlib\n",
    "import matplotlib.pyplot as plt\n",
    "%matplotlib inline"
   ]
  },
  {
   "cell_type": "markdown",
   "metadata": {},
   "source": [
    "## Visim"
   ]
  },
  {
   "cell_type": "code",
   "execution_count": null,
   "metadata": {},
   "outputs": [],
   "source": [
    "frame = pd.read_csv('./result/Visim_result.csv', sep='\\t')"
   ]
  },
  {
   "cell_type": "code",
   "execution_count": null,
   "metadata": {},
   "outputs": [],
   "source": [
    "frame.head()"
   ]
  },
  {
   "cell_type": "code",
   "execution_count": null,
   "metadata": {},
   "outputs": [],
   "source": [
    "mean_error = []\n",
    "std = []\n",
    "col = frame.columns.tolist()[7:]\n",
    "for c in col:\n",
    "    tmp = np.mean(np.abs(frame['Sim2'] - frame[c]))\n",
    "    mean_error.append(tmp)\n",
    "    tmp = np.std(np.abs(frame['Sim2'] - frame[c]))\n",
    "    std.append(tmp)"
   ]
  },
  {
   "cell_type": "code",
   "execution_count": null,
   "metadata": {},
   "outputs": [],
   "source": [
    "print(mean_error)\n",
    "print (std)"
   ]
  },
  {
   "cell_type": "code",
   "execution_count": null,
   "metadata": {},
   "outputs": [],
   "source": [
    "plt.xticks(rotation=40)\n",
    "plt.bar(col, mean_error, width=0.5)\n",
    "plt.axis([None, None, 3, None])\n",
    "plt.title(\"Mean error\")"
   ]
  },
  {
   "cell_type": "code",
   "execution_count": null,
   "metadata": {},
   "outputs": [],
   "source": [
    "plt.xticks(rotation=40)\n",
    "plt.bar(col, std, width=0.5)\n",
    "plt.axis([None, None, 2, None])\n",
    "plt.title(\"Standard deviation\")"
   ]
  },
  {
   "cell_type": "markdown",
   "metadata": {},
   "source": [
    "## Vicon - Nouns"
   ]
  },
  {
   "cell_type": "code",
   "execution_count": null,
   "metadata": {},
   "outputs": [],
   "source": [
    "frame = pd.read_csv('./result/400_noun_pairs_result.csv', sep='\\t')"
   ]
  },
  {
   "cell_type": "code",
   "execution_count": null,
   "metadata": {},
   "outputs": [],
   "source": [
    "frame.head()"
   ]
  },
  {
   "cell_type": "code",
   "execution_count": null,
   "metadata": {},
   "outputs": [],
   "source": [
    "mean_error = []\n",
    "std = []\n",
    "col = frame.columns.tolist()[5:]\n",
    "for c in col:\n",
    "    tmp = np.mean(np.abs(frame['Relation_number']*10 - frame[c]))\n",
    "    mean_error.append(tmp)\n",
    "    tmp = np.std(np.abs(frame['Relation_number']*10 - frame[c]))\n",
    "    std.append(tmp)"
   ]
  },
  {
   "cell_type": "code",
   "execution_count": null,
   "metadata": {},
   "outputs": [],
   "source": [
    "print(mean_error)\n",
    "print (std)"
   ]
  },
  {
   "cell_type": "code",
   "execution_count": null,
   "metadata": {},
   "outputs": [],
   "source": [
    "plt.xticks(rotation=40)\n",
    "plt.bar(col, mean_error, width=0.5)\n",
    "plt.axis([None, None, 4.5, None])\n",
    "plt.title(\"Mean error\")"
   ]
  },
  {
   "cell_type": "code",
   "execution_count": null,
   "metadata": {},
   "outputs": [],
   "source": [
    "plt.xticks(rotation=40)\n",
    "plt.bar(col, std, width=0.5)\n",
    "plt.axis([None, None, 2, None])\n",
    "plt.title(\"Standard deviation\")"
   ]
  },
  {
   "cell_type": "markdown",
   "metadata": {},
   "source": [
    "## Vicon - Verbs"
   ]
  },
  {
   "cell_type": "code",
   "execution_count": null,
   "metadata": {},
   "outputs": [],
   "source": [
    "frame = pd.read_csv('./result/400_verb_pairs_result.csv', sep='\\t')"
   ]
  },
  {
   "cell_type": "code",
   "execution_count": null,
   "metadata": {},
   "outputs": [],
   "source": [
    "frame.head()"
   ]
  },
  {
   "cell_type": "code",
   "execution_count": null,
   "metadata": {},
   "outputs": [],
   "source": [
    "mean_error = []\n",
    "std = []\n",
    "col = frame.columns.tolist()[5:]\n",
    "for c in col:\n",
    "    tmp = np.mean(np.abs(frame['Relation_number']*10 - frame[c]))\n",
    "    mean_error.append(tmp)\n",
    "    tmp = np.std(np.abs(frame['Relation_number']*10 - frame[c]))\n",
    "    std.append(tmp)"
   ]
  },
  {
   "cell_type": "code",
   "execution_count": null,
   "metadata": {},
   "outputs": [],
   "source": [
    "print(mean_error)\n",
    "print (std)"
   ]
  },
  {
   "cell_type": "code",
   "execution_count": null,
   "metadata": {},
   "outputs": [],
   "source": [
    "plt.xticks(rotation=40)\n",
    "plt.bar(col, mean_error, width=0.5)\n",
    "plt.axis([None, None, 4.5, None])\n",
    "plt.title(\"Mean error\")"
   ]
  },
  {
   "cell_type": "code",
   "execution_count": null,
   "metadata": {},
   "outputs": [],
   "source": [
    "plt.xticks(rotation=40)\n",
    "plt.bar(col, std, width=0.5)\n",
    "plt.axis([None, None, 2, None])\n",
    "plt.title(\"Standard deviation\")"
   ]
  },
  {
   "cell_type": "markdown",
   "metadata": {},
   "source": [
    "## Vicon - Adj"
   ]
  },
  {
   "cell_type": "code",
   "execution_count": null,
   "metadata": {},
   "outputs": [],
   "source": [
    "frame = pd.read_csv('./result/600_adj_pairs_result.csv', sep='\\t')"
   ]
  },
  {
   "cell_type": "code",
   "execution_count": null,
   "metadata": {},
   "outputs": [],
   "source": [
    "frame.head()"
   ]
  },
  {
   "cell_type": "code",
   "execution_count": null,
   "metadata": {},
   "outputs": [],
   "source": [
    "mean_error = []\n",
    "std = []\n",
    "col = frame.columns.tolist()[5:]\n",
    "for c in col:\n",
    "    tmp = np.mean(np.abs(frame['Relation_number']*10 - frame[c]))\n",
    "    mean_error.append(tmp)\n",
    "    tmp = np.std(np.abs(frame['Relation_number']*10 - frame[c]))\n",
    "    std.append(tmp)"
   ]
  },
  {
   "cell_type": "code",
   "execution_count": null,
   "metadata": {},
   "outputs": [],
   "source": [
    "print(mean_error)\n",
    "print (std)"
   ]
  },
  {
   "cell_type": "code",
   "execution_count": null,
   "metadata": {},
   "outputs": [],
   "source": [
    "plt.xticks(rotation=40)\n",
    "plt.bar(col, mean_error, width=0.5)\n",
    "plt.axis([None, None, 4.5, None])\n",
    "plt.title(\"Mean error\")"
   ]
  },
  {
   "cell_type": "code",
   "execution_count": null,
   "metadata": {},
   "outputs": [],
   "source": [
    "plt.xticks(rotation=40)\n",
    "plt.bar(col, std, width=0.5)\n",
    "plt.axis([None, None, 2, None])\n",
    "plt.title(\"Standard deviation\")"
   ]
  },
  {
   "cell_type": "code",
   "execution_count": null,
   "metadata": {},
   "outputs": [],
   "source": []
  }
 ],
 "metadata": {
  "kernelspec": {
   "display_name": "Python 3",
   "language": "python",
   "name": "python3"
  },
  "language_info": {
   "codemirror_mode": {
    "name": "ipython",
    "version": 3
   },
   "file_extension": ".py",
   "mimetype": "text/x-python",
   "name": "python",
   "nbconvert_exporter": "python",
   "pygments_lexer": "ipython3",
   "version": "3.7.4"
  }
 },
 "nbformat": 4,
 "nbformat_minor": 2
}
