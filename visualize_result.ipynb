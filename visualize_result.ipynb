{
 "cells": [
  {
   "cell_type": "code",
   "execution_count": 3,
   "metadata": {},
   "outputs": [],
   "source": [
    "import pandas as pd\n",
    "import numpy as np\n",
    "import matplotlib\n",
    "import matplotlib.pyplot as plt\n",
    "%matplotlib inline"
   ]
  },
  {
   "cell_type": "code",
   "execution_count": 4,
   "metadata": {},
   "outputs": [],
   "source": [
    "frame = pd.read_csv('Visim_result.csv', sep='\\t')"
   ]
  },
  {
   "cell_type": "code",
   "execution_count": 5,
   "metadata": {},
   "outputs": [
    {
     "data": {
      "text/html": [
       "<div>\n",
       "<style scoped>\n",
       "    .dataframe tbody tr th:only-of-type {\n",
       "        vertical-align: middle;\n",
       "    }\n",
       "\n",
       "    .dataframe tbody tr th {\n",
       "        vertical-align: top;\n",
       "    }\n",
       "\n",
       "    .dataframe thead th {\n",
       "        text-align: right;\n",
       "    }\n",
       "</style>\n",
       "<table border=\"1\" class=\"dataframe\">\n",
       "  <thead>\n",
       "    <tr style=\"text-align: right;\">\n",
       "      <th></th>\n",
       "      <th>Unnamed: 0</th>\n",
       "      <th>Word1</th>\n",
       "      <th>Word2</th>\n",
       "      <th>POS</th>\n",
       "      <th>Sim1</th>\n",
       "      <th>Sim2</th>\n",
       "      <th>STD</th>\n",
       "      <th>FastText_50</th>\n",
       "      <th>FastText_100</th>\n",
       "      <th>FastText_150</th>\n",
       "      <th>FastText_200</th>\n",
       "      <th>FastText_SVD_50</th>\n",
       "      <th>FastText_SVD_100</th>\n",
       "      <th>FastText_SVD_150</th>\n",
       "    </tr>\n",
       "  </thead>\n",
       "  <tbody>\n",
       "    <tr>\n",
       "      <th>0</th>\n",
       "      <td>0</td>\n",
       "      <td>biến</td>\n",
       "      <td>ngập</td>\n",
       "      <td>V</td>\n",
       "      <td>3.13</td>\n",
       "      <td>5.22</td>\n",
       "      <td>0.72</td>\n",
       "      <td>6.35</td>\n",
       "      <td>6.15</td>\n",
       "      <td>6.04</td>\n",
       "      <td>5.98</td>\n",
       "      <td>6.63</td>\n",
       "      <td>6.19</td>\n",
       "      <td>6.02</td>\n",
       "    </tr>\n",
       "    <tr>\n",
       "      <th>1</th>\n",
       "      <td>1</td>\n",
       "      <td>nhà_thi_đấu</td>\n",
       "      <td>nhà</td>\n",
       "      <td>N</td>\n",
       "      <td>3.07</td>\n",
       "      <td>5.12</td>\n",
       "      <td>1.18</td>\n",
       "      <td>7.16</td>\n",
       "      <td>6.58</td>\n",
       "      <td>6.41</td>\n",
       "      <td>6.25</td>\n",
       "      <td>7.33</td>\n",
       "      <td>6.70</td>\n",
       "      <td>6.29</td>\n",
       "    </tr>\n",
       "    <tr>\n",
       "      <th>2</th>\n",
       "      <td>2</td>\n",
       "      <td>động</td>\n",
       "      <td>tĩnh</td>\n",
       "      <td>V</td>\n",
       "      <td>0.60</td>\n",
       "      <td>1.00</td>\n",
       "      <td>0.95</td>\n",
       "      <td>6.89</td>\n",
       "      <td>6.91</td>\n",
       "      <td>6.87</td>\n",
       "      <td>6.62</td>\n",
       "      <td>7.91</td>\n",
       "      <td>6.77</td>\n",
       "      <td>6.66</td>\n",
       "    </tr>\n",
       "    <tr>\n",
       "      <th>3</th>\n",
       "      <td>3</td>\n",
       "      <td>khuyết</td>\n",
       "      <td>ưu</td>\n",
       "      <td>N</td>\n",
       "      <td>0.20</td>\n",
       "      <td>0.33</td>\n",
       "      <td>0.40</td>\n",
       "      <td>7.63</td>\n",
       "      <td>7.34</td>\n",
       "      <td>7.27</td>\n",
       "      <td>6.90</td>\n",
       "      <td>7.75</td>\n",
       "      <td>7.25</td>\n",
       "      <td>6.98</td>\n",
       "    </tr>\n",
       "    <tr>\n",
       "      <th>4</th>\n",
       "      <td>4</td>\n",
       "      <td>cõi_tục</td>\n",
       "      <td>cõi_âm</td>\n",
       "      <td>N</td>\n",
       "      <td>0.60</td>\n",
       "      <td>1.00</td>\n",
       "      <td>0.95</td>\n",
       "      <td>8.52</td>\n",
       "      <td>8.49</td>\n",
       "      <td>8.46</td>\n",
       "      <td>8.37</td>\n",
       "      <td>8.68</td>\n",
       "      <td>8.55</td>\n",
       "      <td>8.41</td>\n",
       "    </tr>\n",
       "  </tbody>\n",
       "</table>\n",
       "</div>"
      ],
      "text/plain": [
       "   Unnamed: 0        Word1   Word2 POS  Sim1  Sim2   STD  FastText_50  \\\n",
       "0           0         biến    ngập   V  3.13  5.22  0.72         6.35   \n",
       "1           1  nhà_thi_đấu     nhà   N  3.07  5.12  1.18         7.16   \n",
       "2           2         động    tĩnh   V  0.60  1.00  0.95         6.89   \n",
       "3           3       khuyết      ưu   N  0.20  0.33  0.40         7.63   \n",
       "4           4      cõi_tục  cõi_âm   N  0.60  1.00  0.95         8.52   \n",
       "\n",
       "   FastText_100  FastText_150  FastText_200  FastText_SVD_50  \\\n",
       "0          6.15          6.04          5.98             6.63   \n",
       "1          6.58          6.41          6.25             7.33   \n",
       "2          6.91          6.87          6.62             7.91   \n",
       "3          7.34          7.27          6.90             7.75   \n",
       "4          8.49          8.46          8.37             8.68   \n",
       "\n",
       "   FastText_SVD_100  FastText_SVD_150  \n",
       "0              6.19              6.02  \n",
       "1              6.70              6.29  \n",
       "2              6.77              6.66  \n",
       "3              7.25              6.98  \n",
       "4              8.55              8.41  "
      ]
     },
     "execution_count": 5,
     "metadata": {},
     "output_type": "execute_result"
    }
   ],
   "source": [
    "frame.head()"
   ]
  },
  {
   "cell_type": "code",
   "execution_count": 6,
   "metadata": {},
   "outputs": [],
   "source": [
    "mean_error = []\n",
    "std = []\n",
    "col = frame.columns.tolist()[7:]\n",
    "for c in col:\n",
    "    tmp = np.mean(np.abs(frame['Sim2'] - frame[c]))\n",
    "    mean_error.append(tmp)\n",
    "    tmp = np.std(np.abs(frame['Sim2'] - frame[c]))\n",
    "    std.append(tmp)"
   ]
  },
  {
   "cell_type": "code",
   "execution_count": 7,
   "metadata": {},
   "outputs": [
    {
     "name": "stdout",
     "output_type": "stream",
     "text": [
      "[3.84495, 3.61305, 3.5018000000000002, 3.41635, 3.784475, 3.5552499999999996, 3.4546500000000004]\n",
      "[2.5690225762923924, 2.4727656980595634, 2.4147646386345816, 2.3755513417941527, 2.550872443768014, 2.4394139536987156, 2.3970523309890424]\n"
     ]
    }
   ],
   "source": [
    "print(mean_error)\n",
    "print (std)"
   ]
  },
  {
   "cell_type": "code",
   "execution_count": 8,
   "metadata": {},
   "outputs": [
    {
     "data": {
      "text/plain": [
       "Text(0.5, 1.0, 'Mean error')"
      ]
     },
     "execution_count": 8,
     "metadata": {},
     "output_type": "execute_result"
    },
    {
     "data": {
      "image/png": "[encoded data removed]",
      "text/plain": [
       "<Figure size 432x288 with 1 Axes>"
      ]
     },
     "metadata": {
      "needs_background": "light"
     },
     "output_type": "display_data"
    }
   ],
   "source": [
    "plt.xticks(rotation=40)\n",
    "plt.bar(col, mean_error, width=0.5)\n",
    "plt.axis([None, None, 3, None])\n",
    "plt.title(\"Mean error\")"
   ]
  },
  {
   "cell_type": "code",
   "execution_count": 9,
   "metadata": {},
   "outputs": [
    {
     "data": {
      "text/plain": [
       "Text(0.5, 1.0, 'Standard deviation')"
      ]
     },
     "execution_count": 9,
     "metadata": {},
     "output_type": "execute_result"
    },
    {
     "data": {
      "image/png": "[encoded data removed]",
      "text/plain": [
       "<Figure size 432x288 with 1 Axes>"
      ]
     },
     "metadata": {
      "needs_background": "light"
     },
     "output_type": "display_data"
    }
   ],
   "source": [
    "plt.xticks(rotation=40)\n",
    "plt.bar(col, std, width=0.5)\n",
    "plt.axis([None, None, 2, None])\n",
    "plt.title(\"Standard deviation\")"
   ]
  },
  {
   "cell_type": "code",
   "execution_count": null,
   "metadata": {},
   "outputs": [],
   "source": []
  },
  {
   "cell_type": "code",
   "execution_count": null,
   "metadata": {},
   "outputs": [],
   "source": []
  },
  {
   "cell_type": "code",
   "execution_count": null,
   "metadata": {},
   "outputs": [],
   "source": []
  }
 ],
 "metadata": {
  "kernelspec": {
   "display_name": "Python 3",
   "language": "python",
   "name": "python3"
  },
  "language_info": {
   "codemirror_mode": {
    "name": "ipython",
    "version": 3
   },
   "file_extension": ".py",
   "mimetype": "text/x-python",
   "name": "python",
   "nbconvert_exporter": "python",
   "pygments_lexer": "ipython3",
   "version": "3.7.4"
  }
 },
 "nbformat": 4,
 "nbformat_minor": 2
}
